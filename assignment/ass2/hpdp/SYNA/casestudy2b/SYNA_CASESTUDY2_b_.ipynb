{
  "nbformat": 4,
  "nbformat_minor": 0,
  "metadata": {
    "colab": {
      "provenance": [],
      "include_colab_link": true
    },
    "kernelspec": {
      "name": "python3",
      "display_name": "Python 3"
    },
    "language_info": {
      "name": "python"
    }
  },
  "cells": [
    {
      "cell_type": "markdown",
      "metadata": {
        "id": "view-in-github",
        "colab_type": "text"
      },
      "source": [
        "<a href=\"https://colab.research.google.com/github/Nurunnajwa12/-Quadratic-and-Cubic-Equation-Solver-System/blob/main/assignment/ass2/hpdp/SYNA/casestudy2b/SYNA_CASESTUDY2_b_.ipynb\" target=\"_parent\"><img src=\"https://colab.research.google.com/assets/colab-badge.svg\" alt=\"Open In Colab\"/></a>"
      ]
    },
    {
      "cell_type": "markdown",
      "source": [
        "# CASE STUDY 2b : Pandas Profiling"
      ],
      "metadata": {
        "id": "LO5cs7fOnVNb"
      }
    },
    {
      "cell_type": "markdown",
      "source": [
        "# Assignment 2\n",
        "#### Title : Vaccination of Covid-19 in school of Malaysia\n",
        "#### Group : SYNA\n",
        "#### Group Members\n",
        "#### 1. SARAH WARDINA BINTI RAFIDIN A21EC0128\n",
        "#### 2. NURUNNAJWA BINTI ZULKIFLI A21EC0121\n",
        "#### 3. ALYA DAMIA BINTI HUZAIMY A21EC0159\n",
        "#### 4. YASMEEN NATASHA BINTI HAFIZ SHAHREL A21EC0147\n"
      ],
      "metadata": {
        "id": "H3aFHazWziB5"
      }
    },
    {
      "cell_type": "markdown",
      "source": [
        "# CASE STUDY 2"
      ],
      "metadata": {
        "id": "9CSauC3RGd-3"
      }
    },
    {
      "cell_type": "markdown",
      "source": [
        "## Data Preparation and Cleansing"
      ],
      "metadata": {
        "id": "5dcPKD6m7l2L"
      }
    },
    {
      "cell_type": "markdown",
      "source": [
        "Instructions (delete this cell):\n",
        "\n",
        "- Load the dataset into a data frame using Pandas\n",
        "- Explore the number of rows & columns, ranges of values etc.\n",
        "- Handle missing, incorrect and invalid data\n",
        "- Perform any additional steps (parsing dates, creating additional columns, merging multiple dataset etc.)"
      ],
      "metadata": {
        "id": "n0t1OATl8c94"
      }
    },
    {
      "cell_type": "markdown",
      "source": [
        "\n",
        " This data provides an overview and analysis of the COVID-19 vaccination data in Malaysian schools, specifically focusing on the dataset titled vax_school.csv. The dataset contains information on vaccination doses administered to staff, students, and various age groups within different schools across Malaysia."
      ],
      "metadata": {
        "id": "e1ZPCuBz4aZK"
      }
    },
    {
      "cell_type": "markdown",
      "source": [
        "1. First, we import the necessary libraries"
      ],
      "metadata": {
        "id": "UKXgTCkascmQ"
      }
    },
    {
      "cell_type": "code",
      "source": [
        "import pandas as pd\n",
        "\n",
        "import numpy as np\n",
        "\n",
        "import matplotlib.pyplot as plt"
      ],
      "metadata": {
        "id": "lhYvreAR-Umm"
      },
      "execution_count": null,
      "outputs": []
    },
    {
      "cell_type": "code",
      "source": [
        "path = \"https://raw.githubusercontent.com/MoH-Malaysia/covid19-public/main/vaccination/vax_school.csv\""
      ],
      "metadata": {
        "id": "MJ3rXd_cy281"
      },
      "execution_count": null,
      "outputs": []
    },
    {
      "cell_type": "code",
      "source": [
        "vax = pd.read_csv(path)\n",
        "\n",
        "# Display the DataFrame\n",
        "vax"
      ],
      "metadata": {
        "id": "2Egh0Wf1zEci"
      },
      "execution_count": null,
      "outputs": []
    },
    {
      "cell_type": "markdown",
      "source": [
        "2. The dataset has been downloaded and extracted."
      ],
      "metadata": {
        "id": "q6bvizZo7iZL"
      }
    },
    {
      "cell_type": "markdown",
      "source": [
        "3. Find info about this dataset\n",
        "\n"
      ],
      "metadata": {
        "id": "Pz8aOKJp5tBp"
      }
    },
    {
      "cell_type": "markdown",
      "source": [
        "The dataset consists of 10,216 entries and 40 columns, capturing detailed information about vaccination activities in schools. Here is a summary of the key columns:\n",
        "\n",
        "- code: School codes for identification.\n",
        "- school: School names.\n",
        "- state, district, postcode: Geographic information of the schools.\n",
        "- lat, lon: Latitude and longitude coordinates of the schools.\n",
        "- dose1_staff, dose2_staff, dose3_staff: Vaccination doses administered to staff members.\n",
        "- dose1_student, dose2_student: Vaccination doses administered to students.\n",
        "- Columns from dose1_5 to dose2_18: Possible vaccination doses administered to different age groups, with varying levels of missing data."
      ],
      "metadata": {
        "id": "aRHJLttrH6p0"
      }
    },
    {
      "cell_type": "code",
      "source": [
        "vax.info()"
      ],
      "metadata": {
        "id": "iz6s8Q0OzLbp"
      },
      "execution_count": null,
      "outputs": []
    },
    {
      "cell_type": "markdown",
      "source": [
        "4. Above show the info of the dataset"
      ],
      "metadata": {
        "id": "B8W7_NJNraY6"
      }
    },
    {
      "cell_type": "markdown",
      "source": [
        "5. Next, drop column with all null values  which are dose1_5 to dose2_18"
      ],
      "metadata": {
        "id": "FVHYzXsOrx6-"
      }
    },
    {
      "cell_type": "code",
      "source": [
        "vax_cleaned = vax.dropna(axis=1, how='all')"
      ],
      "metadata": {
        "id": "Z-xkQV3BqpYx"
      },
      "execution_count": null,
      "outputs": []
    },
    {
      "cell_type": "code",
      "source": [
        "vax_cleaned.info()"
      ],
      "metadata": {
        "id": "RN8y3pzPv-sz"
      },
      "execution_count": null,
      "outputs": []
    },
    {
      "cell_type": "markdown",
      "source": [
        "6. Info above shows that column has reduce from 40 columns to 26 columns"
      ],
      "metadata": {
        "id": "a4E1LUD_zHMq"
      }
    },
    {
      "cell_type": "markdown",
      "source": [
        "7. Fill missing values in specific columns with appropriate mean values"
      ],
      "metadata": {
        "id": "pyZKIiXJs-4w"
      }
    },
    {
      "cell_type": "code",
      "source": [
        "numerical_columns = vax_cleaned.select_dtypes(include=['float64']).columns\n",
        "vax_cleaned[numerical_columns] = vax_cleaned[numerical_columns].fillna(vax_cleaned[numerical_columns].mean())"
      ],
      "metadata": {
        "id": "6MDE8e1OvwMo"
      },
      "execution_count": null,
      "outputs": []
    },
    {
      "cell_type": "code",
      "source": [
        "vax_cleaned.head()"
      ],
      "metadata": {
        "id": "tf3y8faCv2qo"
      },
      "execution_count": null,
      "outputs": []
    },
    {
      "cell_type": "markdown",
      "source": [
        "8. The NaN value has changed to mean values"
      ],
      "metadata": {
        "id": "85i2o_BOzmO5"
      }
    },
    {
      "cell_type": "code",
      "source": [
        "vax_cleaned.info()"
      ],
      "metadata": {
        "id": "PtIxWo201Md5"
      },
      "execution_count": null,
      "outputs": []
    },
    {
      "cell_type": "markdown",
      "source": [
        "9. Find unique values in the 'school' column\n",
        "\n"
      ],
      "metadata": {
        "id": "q71Y-165JPbN"
      }
    },
    {
      "cell_type": "code",
      "source": [
        "unique_values = vax_cleaned.stack().unique()\n",
        "unique_values\n"
      ],
      "metadata": {
        "id": "ea36H2DjJUOF"
      },
      "execution_count": null,
      "outputs": []
    },
    {
      "cell_type": "markdown",
      "source": [
        "10. Remove duplicate column in all columns"
      ],
      "metadata": {
        "id": "43rB0XT9JehE"
      }
    },
    {
      "cell_type": "code",
      "source": [
        "duplicate_rows = vax_cleaned.duplicated()"
      ],
      "metadata": {
        "id": "ggmUnj3bvuMK"
      },
      "execution_count": null,
      "outputs": []
    },
    {
      "cell_type": "code",
      "source": [
        "duplicates = vax_cleaned[duplicate_rows]\n",
        "print(duplicates)"
      ],
      "metadata": {
        "id": "j72CydDEwGwH"
      },
      "execution_count": null,
      "outputs": []
    },
    {
      "cell_type": "code",
      "source": [
        "vax_cleaned = vax_cleaned.drop_duplicates()"
      ],
      "metadata": {
        "id": "iSbIXcGMJkSj"
      },
      "execution_count": null,
      "outputs": []
    },
    {
      "cell_type": "code",
      "source": [
        "vax_cleaned.info()"
      ],
      "metadata": {
        "id": "jM0xn-hsJpgs"
      },
      "execution_count": null,
      "outputs": []
    },
    {
      "cell_type": "markdown",
      "source": [
        "11. Info above shows there are no duplicate column and rows"
      ],
      "metadata": {
        "id": "b_XRNaHkJuRW"
      }
    },
    {
      "cell_type": "markdown",
      "source": [
        "12. Reset index after dropping rows\n"
      ],
      "metadata": {
        "id": "yzoukx9pyq-L"
      }
    },
    {
      "cell_type": "code",
      "source": [
        "vax_cleaned.reset_index(drop=True, inplace=True)"
      ],
      "metadata": {
        "id": "IexETAPJytO6"
      },
      "execution_count": null,
      "outputs": []
    },
    {
      "cell_type": "code",
      "source": [
        "vax_cleaned.head()"
      ],
      "metadata": {
        "id": "1_jcXRvnuHfT"
      },
      "execution_count": null,
      "outputs": []
    },
    {
      "cell_type": "code",
      "source": [
        "vax_cleaned.tail()"
      ],
      "metadata": {
        "id": "0w6olIkoyEml"
      },
      "execution_count": null,
      "outputs": []
    },
    {
      "cell_type": "markdown",
      "source": [
        "13. Round all float columns to 2 decimal places\n"
      ],
      "metadata": {
        "id": "WzU78uU7HPS4"
      }
    },
    {
      "cell_type": "code",
      "source": [
        "vax_cleaned = vax_cleaned.round(2)"
      ],
      "metadata": {
        "id": "Lmd370daHSy3"
      },
      "execution_count": null,
      "outputs": []
    },
    {
      "cell_type": "code",
      "source": [
        "vax_cleaned.head()"
      ],
      "metadata": {
        "id": "TifKoNVPHVgi"
      },
      "execution_count": null,
      "outputs": []
    },
    {
      "cell_type": "code",
      "source": [
        "vax_cleaned.tail()"
      ],
      "metadata": {
        "id": "jPtny1zFIPY_"
      },
      "execution_count": null,
      "outputs": []
    },
    {
      "cell_type": "markdown",
      "source": [
        "14. All the float data type column has set to two decimal places"
      ],
      "metadata": {
        "id": "43fTn06IHcIZ"
      }
    },
    {
      "cell_type": "markdown",
      "source": [
        "15. Change the data type of state and postcode into string"
      ],
      "metadata": {
        "id": "-yTkjCIVAs4k"
      }
    },
    {
      "cell_type": "code",
      "source": [
        "# Convert 'state' and 'district' columns to strings\n",
        "vax_cleaned['state'] = vax_cleaned['state'].astype(str)\n",
        "vax_cleaned['district'] = vax_cleaned['district'].astype(str)"
      ],
      "metadata": {
        "id": "dTYyWIU0BKy8"
      },
      "execution_count": null,
      "outputs": []
    },
    {
      "cell_type": "code",
      "source": [
        "vax_cleaned.info()"
      ],
      "metadata": {
        "id": "Nb4RsS7KGjI7"
      },
      "execution_count": null,
      "outputs": []
    },
    {
      "cell_type": "markdown",
      "source": [
        "16. State and district succeccfully changed to string data type"
      ],
      "metadata": {
        "id": "nf4rfCxmH6HU"
      }
    },
    {
      "cell_type": "code",
      "source": [
        "vax_cleaned.head()"
      ],
      "metadata": {
        "id": "ecPbn_BnGoTE"
      },
      "execution_count": null,
      "outputs": []
    },
    {
      "cell_type": "code",
      "source": [
        "vax_cleaned.tail()"
      ],
      "metadata": {
        "id": "_4_KXPijJSpw"
      },
      "execution_count": null,
      "outputs": []
    },
    {
      "cell_type": "code",
      "source": [
        "vax_cleaned.info()"
      ],
      "metadata": {
        "id": "VJYMx32MJ1_y"
      },
      "execution_count": null,
      "outputs": []
    },
    {
      "cell_type": "markdown",
      "source": [
        "17. Dataset successfully prep and cleaned"
      ],
      "metadata": {
        "id": "Omw-YKLXJDOr"
      }
    },
    {
      "cell_type": "markdown",
      "source": [
        "## 2. Pandas-Profiling"
      ],
      "metadata": {
        "id": "b7hHonD7Im63"
      }
    },
    {
      "cell_type": "markdown",
      "source": [
        "### Data Preparation"
      ],
      "metadata": {
        "id": "gVknZmsxIt83"
      }
    },
    {
      "cell_type": "code",
      "source": [
        "!pip install -U ydata-profiling"
      ],
      "metadata": {
        "id": "Hls841BVJBAl"
      },
      "execution_count": null,
      "outputs": []
    },
    {
      "cell_type": "code",
      "source": [
        "import pandas as pd\n",
        "import numpy as np\n",
        "from ydata_profiling import ProfileReport\n",
        "from ydata_profiling.utils.cache import cache_file"
      ],
      "metadata": {
        "id": "KhdMIY6FREzN"
      },
      "execution_count": null,
      "outputs": []
    },
    {
      "cell_type": "code",
      "source": [
        "file_name = cache_file(\"vax_school.csv\", \"https://raw.githubusercontent.com/MoH-Malaysia/covid19-public/main/vaccination/vax_school.csv\")\n",
        "df = pd.read_csv (file_name)"
      ],
      "metadata": {
        "id": "YeAOkEbLRxyf"
      },
      "execution_count": null,
      "outputs": []
    },
    {
      "cell_type": "code",
      "source": [
        "df.head()"
      ],
      "metadata": {
        "id": "cwaDfBg-Tqvw"
      },
      "execution_count": null,
      "outputs": []
    },
    {
      "cell_type": "code",
      "source": [
        "df.info()"
      ],
      "metadata": {
        "id": "5GUjEFT5TvSF"
      },
      "execution_count": null,
      "outputs": []
    },
    {
      "cell_type": "markdown",
      "source": [
        "### Implementation of Automated EDA Tools\n"
      ],
      "metadata": {
        "id": "ROTOGdzIT0Cv"
      }
    },
    {
      "cell_type": "markdown",
      "source": [
        "1. Generating Profiling Report"
      ],
      "metadata": {
        "id": "jF22RzYBUMCB"
      }
    },
    {
      "cell_type": "code",
      "source": [
        "profile = ProfileReport(df, title=\"Vaccination of Covid-19 in school of Malaysia\", html={\"style\": {\"full_width\": True}}, sort=None, minimal=True)"
      ],
      "metadata": {
        "id": "p6v8EsqEUDZs"
      },
      "execution_count": null,
      "outputs": []
    },
    {
      "cell_type": "markdown",
      "source": [
        "2. Displaying Profiling Report"
      ],
      "metadata": {
        "id": "FPJ3JZ3fU1-6"
      }
    },
    {
      "cell_type": "code",
      "source": [
        "profile"
      ],
      "metadata": {
        "id": "a-MVRDm8U4__"
      },
      "execution_count": null,
      "outputs": []
    },
    {
      "cell_type": "markdown",
      "source": [
        "### Pros and Cons Analysis"
      ],
      "metadata": {
        "id": "br_if4IBJBpn"
      }
    },
    {
      "cell_type": "markdown",
      "source": [
        "**Pros**"
      ],
      "metadata": {
        "id": "kxyR4tqxVNtF"
      }
    },
    {
      "cell_type": "markdown",
      "source": [
        "1. **Time Saving**: We can quickly produce an extensive report on our dataset that includes fundamental statistics, a description of the data distribution, and any missing values.\n",
        "\n",
        "2. **Data Visualization**: A report with visualisations such as correlation matrices, scatter plots, and histograms is produced. As a result, finding patterns, trends, and connections in the data is made simpler.\n",
        "\n",
        "3. **Missing Data Analysis**: Pandas Profiling makes it simpler to find and handle regions that need data imputation or cleaning by highlighting missing values in the dataset."
      ],
      "metadata": {
        "id": "R9phYPPHVSaW"
      }
    },
    {
      "cell_type": "markdown",
      "source": [
        "**Cons**"
      ],
      "metadata": {
        "id": "atugUfo9Wukb"
      }
    },
    {
      "cell_type": "markdown",
      "source": [
        "1. **Limited Customization**: While Pandas Profiling offers considerable flexibility, there is not enough fine-grained control over the analysis and report output. We may have no choice but to employ manual coding for extremely particular or sophisticated analysis needs.\n",
        "\n",
        "2. **Static Report**: After it is created, the resultant report is static. We must regenerate the report to reflect any changes made to the underlying data. This could be a drawback for datasets that are dynamic or change quickly.\n",
        "\n",
        "3. **Limited Interactivity**: Although there is some interaction in the resulting report, it could not offer as much freedom and interactivity as working directly in a Jupyter Notebook or other dedicated interactive environment."
      ],
      "metadata": {
        "id": "73fM-DB7Ww_S"
      }
    },
    {
      "cell_type": "markdown",
      "source": [
        "**Insights of Pandas-Profiling on our chosen Malaysian Dataset**"
      ],
      "metadata": {
        "id": "7HKntHGdX3IF"
      }
    },
    {
      "cell_type": "markdown",
      "source": [
        "In my opinion, Pandas-Profiling offers an easy-to-comprehend and straightforward interface that can help us analyse and navigate the data quickly and efficiently."
      ],
      "metadata": {
        "id": "NMY1qCYgYGig"
      }
    },
    {
      "cell_type": "markdown",
      "source": [
        "### Conclusion"
      ],
      "metadata": {
        "id": "9FGsQZShJLDU"
      }
    },
    {
      "cell_type": "markdown",
      "source": [
        "To conclude, while Pandas Profiling is an effective tool for preliminary data exploration, when working on complicated data science projects, it might not be able to fully replace the requirement for further in-depth research and domain-specific knowledge. Even with these drawbacks, pandas profiling is still a useful tool for efficient and enlightening data exploration—especially when a project is just getting started in data research. When more specialised and in-depth analysis is required, we should be aware of its advantages and disadvantages and take alternative tools or methodologies into consideration."
      ],
      "metadata": {
        "id": "D_WzzhIXY3He"
      }
    },
    {
      "cell_type": "markdown",
      "source": [
        "### Reference"
      ],
      "metadata": {
        "id": "z7FG3xlDZqFA"
      }
    },
    {
      "cell_type": "markdown",
      "source": [
        "[Github: ydata-profiling](https:///github.com/ydataai/ydata-profiling)"
      ],
      "metadata": {
        "id": "TZYwSMIOZsnd"
      }
    }
  ]
}